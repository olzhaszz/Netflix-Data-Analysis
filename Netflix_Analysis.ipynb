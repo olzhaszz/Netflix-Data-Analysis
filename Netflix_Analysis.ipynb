{
 "cells": [
  {
   "cell_type": "markdown",
   "id": "57259d31",
   "metadata": {},
   "source": [
    "# 📺 Netflix Data Analysis\n",
    "Analysis of Netflix content with 13 key questions using pandas."
   ]
  },
  {
   "cell_type": "code",
   "execution_count": 1,
   "id": "90c4415b-3588-4663-a4a8-d37eb0c3e412",
   "metadata": {},
   "outputs": [],
   "source": [
    "import pandas as pd\n",
    "import matplotlib.pyplot as plt"
   ]
  },
  {
   "cell_type": "code",
   "execution_count": null,
   "id": "3eae63e8-919c-4079-a76e-faec3ae41451",
   "metadata": {},
   "outputs": [],
   "source": [
    "import seaborn as sns"
   ]
  },
  {
   "cell_type": "code",
   "execution_count": 7,
   "id": "4e7b20f8-a7c1-4ebb-8915-ceb4fc625fb9",
   "metadata": {},
   "outputs": [],
   "source": [
    "netflix = pd.read_csv('Netflix-Analysis.csv')"
   ]
  },
  {
   "cell_type": "code",
   "execution_count": 9,
   "id": "68973aeb-4226-4e77-a1a7-f0b8fbe9c24a",
   "metadata": {},
   "outputs": [
    {
     "data": {
      "text/html": [
       "<div>\n",
       "<style scoped>\n",
       "    .dataframe tbody tr th:only-of-type {\n",
       "        vertical-align: middle;\n",
       "    }\n",
       "\n",
       "    .dataframe tbody tr th {\n",
       "        vertical-align: top;\n",
       "    }\n",
       "\n",
       "    .dataframe thead th {\n",
       "        text-align: right;\n",
       "    }\n",
       "</style>\n",
       "<table border=\"1\" class=\"dataframe\">\n",
       "  <thead>\n",
       "    <tr style=\"text-align: right;\">\n",
       "      <th></th>\n",
       "      <th>Show_Id</th>\n",
       "      <th>Category</th>\n",
       "      <th>Title</th>\n",
       "      <th>Director</th>\n",
       "      <th>Cast</th>\n",
       "      <th>Country</th>\n",
       "      <th>Release_Date</th>\n",
       "      <th>Rating</th>\n",
       "      <th>Duration</th>\n",
       "      <th>Type</th>\n",
       "      <th>Description</th>\n",
       "    </tr>\n",
       "  </thead>\n",
       "  <tbody>\n",
       "    <tr>\n",
       "      <th>0</th>\n",
       "      <td>s1</td>\n",
       "      <td>TV Show</td>\n",
       "      <td>3%</td>\n",
       "      <td>NaN</td>\n",
       "      <td>João Miguel, Bianca Comparato, Michel Gomes, R...</td>\n",
       "      <td>Brazil</td>\n",
       "      <td>August 14, 2020</td>\n",
       "      <td>TV-MA</td>\n",
       "      <td>4 Seasons</td>\n",
       "      <td>International TV Shows, TV Dramas, TV Sci-Fi &amp;...</td>\n",
       "      <td>In a future where the elite inhabit an island ...</td>\n",
       "    </tr>\n",
       "    <tr>\n",
       "      <th>1</th>\n",
       "      <td>s2</td>\n",
       "      <td>Movie</td>\n",
       "      <td>07:19</td>\n",
       "      <td>Jorge Michel Grau</td>\n",
       "      <td>Demián Bichir, Héctor Bonilla, Oscar Serrano, ...</td>\n",
       "      <td>Mexico</td>\n",
       "      <td>December 23, 2016</td>\n",
       "      <td>TV-MA</td>\n",
       "      <td>93 min</td>\n",
       "      <td>Dramas, International Movies</td>\n",
       "      <td>After a devastating earthquake hits Mexico Cit...</td>\n",
       "    </tr>\n",
       "    <tr>\n",
       "      <th>2</th>\n",
       "      <td>s3</td>\n",
       "      <td>Movie</td>\n",
       "      <td>23:59</td>\n",
       "      <td>Gilbert Chan</td>\n",
       "      <td>Tedd Chan, Stella Chung, Henley Hii, Lawrence ...</td>\n",
       "      <td>Singapore</td>\n",
       "      <td>December 20, 2018</td>\n",
       "      <td>R</td>\n",
       "      <td>78 min</td>\n",
       "      <td>Horror Movies, International Movies</td>\n",
       "      <td>When an army recruit is found dead, his fellow...</td>\n",
       "    </tr>\n",
       "    <tr>\n",
       "      <th>3</th>\n",
       "      <td>s4</td>\n",
       "      <td>Movie</td>\n",
       "      <td>9</td>\n",
       "      <td>Shane Acker</td>\n",
       "      <td>Elijah Wood, John C. Reilly, Jennifer Connelly...</td>\n",
       "      <td>United States</td>\n",
       "      <td>November 16, 2017</td>\n",
       "      <td>PG-13</td>\n",
       "      <td>80 min</td>\n",
       "      <td>Action &amp; Adventure, Independent Movies, Sci-Fi...</td>\n",
       "      <td>In a postapocalyptic world, rag-doll robots hi...</td>\n",
       "    </tr>\n",
       "    <tr>\n",
       "      <th>4</th>\n",
       "      <td>s5</td>\n",
       "      <td>Movie</td>\n",
       "      <td>21</td>\n",
       "      <td>Robert Luketic</td>\n",
       "      <td>Jim Sturgess, Kevin Spacey, Kate Bosworth, Aar...</td>\n",
       "      <td>United States</td>\n",
       "      <td>January 1, 2020</td>\n",
       "      <td>PG-13</td>\n",
       "      <td>123 min</td>\n",
       "      <td>Dramas</td>\n",
       "      <td>A brilliant group of students become card-coun...</td>\n",
       "    </tr>\n",
       "  </tbody>\n",
       "</table>\n",
       "</div>"
      ],
      "text/plain": [
       "  Show_Id Category  Title           Director  \\\n",
       "0      s1  TV Show     3%                NaN   \n",
       "1      s2    Movie  07:19  Jorge Michel Grau   \n",
       "2      s3    Movie  23:59       Gilbert Chan   \n",
       "3      s4    Movie      9        Shane Acker   \n",
       "4      s5    Movie     21     Robert Luketic   \n",
       "\n",
       "                                                Cast        Country  \\\n",
       "0  João Miguel, Bianca Comparato, Michel Gomes, R...         Brazil   \n",
       "1  Demián Bichir, Héctor Bonilla, Oscar Serrano, ...         Mexico   \n",
       "2  Tedd Chan, Stella Chung, Henley Hii, Lawrence ...      Singapore   \n",
       "3  Elijah Wood, John C. Reilly, Jennifer Connelly...  United States   \n",
       "4  Jim Sturgess, Kevin Spacey, Kate Bosworth, Aar...  United States   \n",
       "\n",
       "        Release_Date Rating   Duration  \\\n",
       "0    August 14, 2020  TV-MA  4 Seasons   \n",
       "1  December 23, 2016  TV-MA     93 min   \n",
       "2  December 20, 2018      R     78 min   \n",
       "3  November 16, 2017  PG-13     80 min   \n",
       "4    January 1, 2020  PG-13    123 min   \n",
       "\n",
       "                                                Type  \\\n",
       "0  International TV Shows, TV Dramas, TV Sci-Fi &...   \n",
       "1                       Dramas, International Movies   \n",
       "2                Horror Movies, International Movies   \n",
       "3  Action & Adventure, Independent Movies, Sci-Fi...   \n",
       "4                                             Dramas   \n",
       "\n",
       "                                         Description  \n",
       "0  In a future where the elite inhabit an island ...  \n",
       "1  After a devastating earthquake hits Mexico Cit...  \n",
       "2  When an army recruit is found dead, his fellow...  \n",
       "3  In a postapocalyptic world, rag-doll robots hi...  \n",
       "4  A brilliant group of students become card-coun...  "
      ]
     },
     "execution_count": 9,
     "metadata": {},
     "output_type": "execute_result"
    }
   ],
   "source": [
    "netflix.head()"
   ]
  },
  {
   "cell_type": "markdown",
   "id": "fed7b5b6",
   "metadata": {},
   "source": [
    "### 1. What is the shape of the dataset (rows, columns)?"
   ]
  },
  {
   "cell_type": "code",
   "execution_count": 12,
   "id": "276633ad",
   "metadata": {},
   "outputs": [
    {
     "data": {
      "text/plain": [
       "(7789, 11)"
      ]
     },
     "execution_count": 12,
     "metadata": {},
     "output_type": "execute_result"
    }
   ],
   "source": [
    "netflix.shape"
   ]
  },
  {
   "cell_type": "markdown",
   "id": "dbf448a1",
   "metadata": {},
   "source": [
    "### 2. What are the data types and missing values?"
   ]
  },
  {
   "cell_type": "code",
   "execution_count": 15,
   "id": "b7a0f734",
   "metadata": {},
   "outputs": [
    {
     "name": "stdout",
     "output_type": "stream",
     "text": [
      "<class 'pandas.core.frame.DataFrame'>\n",
      "RangeIndex: 7789 entries, 0 to 7788\n",
      "Data columns (total 11 columns):\n",
      " #   Column        Non-Null Count  Dtype \n",
      "---  ------        --------------  ----- \n",
      " 0   Show_Id       7789 non-null   object\n",
      " 1   Category      7789 non-null   object\n",
      " 2   Title         7789 non-null   object\n",
      " 3   Director      5401 non-null   object\n",
      " 4   Cast          7071 non-null   object\n",
      " 5   Country       7282 non-null   object\n",
      " 6   Release_Date  7779 non-null   object\n",
      " 7   Rating        7782 non-null   object\n",
      " 8   Duration      7789 non-null   object\n",
      " 9   Type          7789 non-null   object\n",
      " 10  Description   7789 non-null   object\n",
      "dtypes: object(11)\n",
      "memory usage: 669.5+ KB\n"
     ]
    },
    {
     "data": {
      "text/plain": [
       "Show_Id            0\n",
       "Category           0\n",
       "Title              0\n",
       "Director        2388\n",
       "Cast             718\n",
       "Country          507\n",
       "Release_Date      10\n",
       "Rating             7\n",
       "Duration           0\n",
       "Type               0\n",
       "Description        0\n",
       "dtype: int64"
      ]
     },
     "execution_count": 15,
     "metadata": {},
     "output_type": "execute_result"
    }
   ],
   "source": [
    "netflix.info()\n",
    "netflix.isnull().sum()"
   ]
  },
  {
   "cell_type": "markdown",
   "id": "124b227b",
   "metadata": {},
   "source": [
    "### 3. How many Movies and TV Shows are there?"
   ]
  },
  {
   "cell_type": "code",
   "execution_count": 18,
   "id": "294d9e9c",
   "metadata": {},
   "outputs": [
    {
     "data": {
      "text/plain": [
       "Category\n",
       "Movie      5379\n",
       "TV Show    2410\n",
       "Name: count, dtype: int64"
      ]
     },
     "execution_count": 18,
     "metadata": {},
     "output_type": "execute_result"
    }
   ],
   "source": [
    "netflix['Category'].value_counts()"
   ]
  },
  {
   "cell_type": "markdown",
   "id": "c584125a",
   "metadata": {},
   "source": [
    "### 4. What are the top 10 most common countries producing Netflix content?"
   ]
  },
  {
   "cell_type": "code",
   "execution_count": 21,
   "id": "03b1420f",
   "metadata": {},
   "outputs": [
    {
     "data": {
      "text/plain": [
       "Country\n",
       "United States     2556\n",
       "India              923\n",
       "United Kingdom     397\n",
       "Japan              226\n",
       "South Korea        183\n",
       "Canada             177\n",
       "Spain              134\n",
       "France             115\n",
       "Egypt              101\n",
       "Turkey             100\n",
       "Name: count, dtype: int64"
      ]
     },
     "execution_count": 21,
     "metadata": {},
     "output_type": "execute_result"
    }
   ],
   "source": [
    "netflix['Country'].value_counts().head(10)"
   ]
  },
  {
   "cell_type": "markdown",
   "id": "476d0705",
   "metadata": {},
   "source": [
    "### 5. What are the most frequent content ratings?"
   ]
  },
  {
   "cell_type": "code",
   "execution_count": 30,
   "id": "625b74d8",
   "metadata": {},
   "outputs": [
    {
     "data": {
      "text/plain": [
       "Rating\n",
       "TV-MA    2865\n",
       "TV-14    1931\n",
       "TV-PG     806\n",
       "R         665\n",
       "PG-13     386\n",
       "TV-Y      280\n",
       "TV-Y7     271\n",
       "PG        247\n",
       "TV-G      194\n",
       "NR         84\n",
       "Name: count, dtype: int64"
      ]
     },
     "execution_count": 30,
     "metadata": {},
     "output_type": "execute_result"
    }
   ],
   "source": [
    "netflix['Rating'].value_counts().head(10)"
   ]
  },
  {
   "cell_type": "markdown",
   "id": "d1759741",
   "metadata": {},
   "source": [
    "### 6. Which year had the most releases on Netflix?"
   ]
  },
  {
   "cell_type": "code",
   "execution_count": 37,
   "id": "353dcd88-8479-40c9-9292-49b5f697cac5",
   "metadata": {},
   "outputs": [],
   "source": [
    "netflix['Release_Date'] = pd.to_datetime(netflix['Release_Date'], errors='coerce')\n"
   ]
  },
  {
   "cell_type": "code",
   "execution_count": 39,
   "id": "e3ec6a86",
   "metadata": {},
   "outputs": [
    {
     "data": {
      "text/plain": [
       "Release_Year\n",
       "2019.0    2137\n",
       "2020.0    2009\n",
       "2018.0    1661\n",
       "2017.0    1201\n",
       "2016.0     432\n",
       "2021.0     117\n",
       "2015.0      79\n",
       "2014.0      24\n",
       "2011.0      13\n",
       "2013.0      10\n",
       "Name: count, dtype: int64"
      ]
     },
     "execution_count": 39,
     "metadata": {},
     "output_type": "execute_result"
    }
   ],
   "source": [
    "netflix['Release_Year'] = netflix['Release_Date'].dt.year\n",
    "\n",
    "netflix['Release_Year'].value_counts().head(10)"
   ]
  },
  {
   "cell_type": "markdown",
   "id": "29c0c272",
   "metadata": {},
   "source": [
    "### 7. What are the most common genres/types of shows?"
   ]
  },
  {
   "cell_type": "code",
   "execution_count": 42,
   "id": "69d654d9",
   "metadata": {},
   "outputs": [
    {
     "data": {
      "text/plain": [
       "Type\n",
       "Documentaries                                       334\n",
       "Stand-Up Comedy                                     321\n",
       "Dramas, International Movies                        320\n",
       "Comedies, Dramas, International Movies              243\n",
       "Dramas, Independent Movies, International Movies    215\n",
       "Kids' TV                                            205\n",
       "Children & Family Movies                            177\n",
       "Documentaries, International Movies                 172\n",
       "Children & Family Movies, Comedies                  169\n",
       "Comedies, International Movies                      161\n",
       "Name: count, dtype: int64"
      ]
     },
     "execution_count": 42,
     "metadata": {},
     "output_type": "execute_result"
    }
   ],
   "source": [
    "netflix['Type'].value_counts().head(10)"
   ]
  },
  {
   "cell_type": "markdown",
   "id": "7e1d2cf9",
   "metadata": {},
   "source": [
    "### 8. Which directors have the most titles on Netflix?"
   ]
  },
  {
   "cell_type": "code",
   "execution_count": 45,
   "id": "fdeaa23a",
   "metadata": {},
   "outputs": [
    {
     "data": {
      "text/plain": [
       "Director\n",
       "Raúl Campos, Jan Suter    18\n",
       "Marcus Raboy              16\n",
       "Jay Karas                 14\n",
       "Cathy Garcia-Molina       13\n",
       "Jay Chapman               12\n",
       "Youssef Chahine           12\n",
       "Martin Scorsese           12\n",
       "Steven Spielberg          10\n",
       "David Dhawan               9\n",
       "Robert Rodriguez           8\n",
       "Name: count, dtype: int64"
      ]
     },
     "execution_count": 45,
     "metadata": {},
     "output_type": "execute_result"
    }
   ],
   "source": [
    "netflix['Director'].value_counts().dropna().head(10)"
   ]
  },
  {
   "cell_type": "markdown",
   "id": "dbc0cca0",
   "metadata": {},
   "source": [
    "### 9. What is the distribution of movie durations (in minutes)?"
   ]
  },
  {
   "cell_type": "code",
   "execution_count": 50,
   "id": "99d12ddc-ec10-450e-be16-cc8da6cf192f",
   "metadata": {},
   "outputs": [],
   "source": [
    "\n",
    "netflix['Duration_int'] = netflix['Duration'].str.extract(r'(\\d+)').astype(float)\n",
    "netflix['Duration_unit'] = netflix['Duration'].str.extract(r'([a-zA-Z]+)')\n"
   ]
  },
  {
   "cell_type": "code",
   "execution_count": 52,
   "id": "ac2cff77",
   "metadata": {},
   "outputs": [
    {
     "data": {
      "image/png": "[encoded data removed]",
      "text/plain": [
       "<Figure size 640x480 with 1 Axes>"
      ]
     },
     "metadata": {},
     "output_type": "display_data"
    }
   ],
   "source": [
    "movie_durations = netflix[netflix['Duration_unit'] == 'min']['Duration_int']\n",
    "movie_durations.hist(bins=30)\n",
    "plt.xlabel('Duration (minutes)')\n",
    "plt.title('Movie Duration Distribution')\n",
    "plt.show()"
   ]
  },
  {
   "cell_type": "markdown",
   "id": "521561d6",
   "metadata": {},
   "source": [
    "### 10. How many TV shows have more than 3 seasons?"
   ]
  },
  {
   "cell_type": "code",
   "execution_count": 55,
   "id": "d8cfbaa4",
   "metadata": {},
   "outputs": [
    {
     "data": {
      "text/plain": [
       "236"
      ]
     },
     "execution_count": 55,
     "metadata": {},
     "output_type": "execute_result"
    }
   ],
   "source": [
    "tv_shows = netflix[netflix['Duration_unit'] == 'Seasons']\n",
    "tv_shows[tv_shows['Duration_int'] > 3].shape[0]"
   ]
  },
  {
   "cell_type": "markdown",
   "id": "8d448009",
   "metadata": {},
   "source": [
    "### 11. Which actor appears the most often in Netflix titles?"
   ]
  },
  {
   "cell_type": "code",
   "execution_count": 58,
   "id": "6609598e",
   "metadata": {},
   "outputs": [
    {
     "data": {
      "text/plain": [
       "Anupam Kher         42\n",
       "Shah Rukh Khan      35\n",
       "Naseeruddin Shah    30\n",
       "Om Puri             30\n",
       "Takahiro Sakurai    29\n",
       "Akshay Kumar        29\n",
       "Amitabh Bachchan    27\n",
       "Paresh Rawal        27\n",
       "Boman Irani         27\n",
       "Yuki Kaji           27\n",
       "dtype: int64"
      ]
     },
     "execution_count": 58,
     "metadata": {},
     "output_type": "execute_result"
    }
   ],
   "source": [
    "from collections import Counter\n",
    "\n",
    "actor_counter = Counter()\n",
    "netflix['Cast'].dropna().str.split(', ').apply(actor_counter.update)\n",
    "pd.Series(actor_counter).sort_values(ascending=False).head(10)"
   ]
  },
  {
   "cell_type": "markdown",
   "id": "c71ff04a",
   "metadata": {},
   "source": [
    "### 12. Show the trend of content added over the years"
   ]
  },
  {
   "cell_type": "code",
   "execution_count": 61,
   "id": "09459d92",
   "metadata": {},
   "outputs": [
    {
     "data": {
      "image/png": "[encoded data removed]",
      "text/plain": [
       "<Figure size 1000x500 with 1 Axes>"
      ]
     },
     "metadata": {},
     "output_type": "display_data"
    }
   ],
   "source": [
    "netflix['Release_Year'].value_counts().sort_index().plot(kind='line', figsize=(10,5))\n",
    "plt.xlabel('Year')\n",
    "plt.ylabel('Number of Releases')\n",
    "plt.title('Content Added Over Time')\n",
    "plt.grid(True)\n",
    "plt.show()"
   ]
  },
  {
   "cell_type": "markdown",
   "id": "457af633",
   "metadata": {},
   "source": [
    "### 13. What are the top 10 longest movies on Netflix?"
   ]
  },
  {
   "cell_type": "code",
   "execution_count": 64,
   "id": "0519a6d1",
   "metadata": {},
   "outputs": [
    {
     "data": {
      "text/html": [
       "<div>\n",
       "<style scoped>\n",
       "    .dataframe tbody tr th:only-of-type {\n",
       "        vertical-align: middle;\n",
       "    }\n",
       "\n",
       "    .dataframe tbody tr th {\n",
       "        vertical-align: top;\n",
       "    }\n",
       "\n",
       "    .dataframe thead th {\n",
       "        text-align: right;\n",
       "    }\n",
       "</style>\n",
       "<table border=\"1\" class=\"dataframe\">\n",
       "  <thead>\n",
       "    <tr style=\"text-align: right;\">\n",
       "      <th></th>\n",
       "      <th>Title</th>\n",
       "      <th>Duration</th>\n",
       "    </tr>\n",
       "  </thead>\n",
       "  <tbody>\n",
       "    <tr>\n",
       "      <th>957</th>\n",
       "      <td>Black Mirror: Bandersnatch</td>\n",
       "      <td>312 min</td>\n",
       "    </tr>\n",
       "    <tr>\n",
       "      <th>6852</th>\n",
       "      <td>The School of Mischief</td>\n",
       "      <td>253 min</td>\n",
       "    </tr>\n",
       "    <tr>\n",
       "      <th>4490</th>\n",
       "      <td>No Longer kids</td>\n",
       "      <td>237 min</td>\n",
       "    </tr>\n",
       "    <tr>\n",
       "      <th>3694</th>\n",
       "      <td>Lock Your Girls In</td>\n",
       "      <td>233 min</td>\n",
       "    </tr>\n",
       "    <tr>\n",
       "      <th>5109</th>\n",
       "      <td>Raya and Sakina</td>\n",
       "      <td>230 min</td>\n",
       "    </tr>\n",
       "    <tr>\n",
       "      <th>5377</th>\n",
       "      <td>Sangam</td>\n",
       "      <td>228 min</td>\n",
       "    </tr>\n",
       "    <tr>\n",
       "      <th>3521</th>\n",
       "      <td>Lagaan</td>\n",
       "      <td>224 min</td>\n",
       "    </tr>\n",
       "    <tr>\n",
       "      <th>3195</th>\n",
       "      <td>Jodhaa Akbar</td>\n",
       "      <td>214 min</td>\n",
       "    </tr>\n",
       "    <tr>\n",
       "      <th>6509</th>\n",
       "      <td>The Irishman</td>\n",
       "      <td>209 min</td>\n",
       "    </tr>\n",
       "    <tr>\n",
       "      <th>3282</th>\n",
       "      <td>Kabhi Khushi Kabhie Gham</td>\n",
       "      <td>209 min</td>\n",
       "    </tr>\n",
       "  </tbody>\n",
       "</table>\n",
       "</div>"
      ],
      "text/plain": [
       "                           Title Duration\n",
       "957   Black Mirror: Bandersnatch  312 min\n",
       "6852      The School of Mischief  253 min\n",
       "4490              No Longer kids  237 min\n",
       "3694          Lock Your Girls In  233 min\n",
       "5109             Raya and Sakina  230 min\n",
       "5377                      Sangam  228 min\n",
       "3521                      Lagaan  224 min\n",
       "3195                Jodhaa Akbar  214 min\n",
       "6509                The Irishman  209 min\n",
       "3282    Kabhi Khushi Kabhie Gham  209 min"
      ]
     },
     "execution_count": 64,
     "metadata": {},
     "output_type": "execute_result"
    }
   ],
   "source": [
    "netflix[netflix['Duration_unit'] == 'min'].sort_values(by='Duration_int', ascending=False)[['Title', 'Duration']].head(10)"
   ]
  },
  {
   "cell_type": "code",
   "execution_count": null,
   "id": "f43dc100-e304-4b29-90c4-6dd6d11a1acf",
   "metadata": {},
   "outputs": [],
   "source": [
    "credits: datasciencelovers"
   ]
  },
  {
   "cell_type": "code",
   "execution_count": null,
   "id": "f046a3f1-8dfc-4453-a7cb-ef7052c2d19d",
   "metadata": {},
   "outputs": [],
   "source": []
  }
 ],
 "metadata": {
  "kernelspec": {
   "display_name": "Python 3 (ipykernel)",
   "language": "python",
   "name": "python3"
  },
  "language_info": {
   "codemirror_mode": {
    "name": "ipython",
    "version": 3
   },
   "file_extension": ".py",
   "mimetype": "text/x-python",
   "name": "python",
   "nbconvert_exporter": "python",
   "pygments_lexer": "ipython3",
   "version": "3.12.4"
  }
 },
 "nbformat": 4,
 "nbformat_minor": 5
}
